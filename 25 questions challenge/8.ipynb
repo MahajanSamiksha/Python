{
  "nbformat": 4,
  "nbformat_minor": 0,
  "metadata": {
    "colab": {
      "provenance": []
    },
    "kernelspec": {
      "name": "python3",
      "display_name": "Python 3"
    },
    "language_info": {
      "name": "python"
    }
  },
  "cells": [
    {
      "cell_type": "code",
      "execution_count": 13,
      "metadata": {
        "colab": {
          "base_uri": "https://localhost:8080/"
        },
        "id": "8RxUIQcebObp",
        "outputId": "64bb800a-3f00-441e-e5a2-a9cf71f30c50"
      },
      "outputs": [
        {
          "output_type": "stream",
          "name": "stdout",
          "text": [
            "Enter your name\n",
            "Samiksha\n",
            "Welcome\n",
            "Enter your name\n",
            "ahajan\n",
            "Welcome\n",
            "Enter your name\n",
            "Samiksha\n",
            "See you next time\n",
            "Ending...\n",
            "['Samiksha', 'ahajan']\n"
          ]
        }
      ],
      "source": [
        "newName = []\n",
        "print(\"Enter your name\")\n",
        "name = input()\n",
        "while True :\n",
        "  if name in newName:\n",
        "    print(\"See you next time\")\n",
        "    break\n",
        "  else :\n",
        "    print(\"Welcome\")\n",
        "    newName.append(name)\n",
        "  print(\"Enter your name\")\n",
        "  name = input()\n",
        "\n",
        "print(newName)"
      ]
    }
  ]
}